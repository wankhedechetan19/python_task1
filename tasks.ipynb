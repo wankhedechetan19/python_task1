{
 "cells": [
  {
   "cell_type": "markdown",
   "id": "9cc8a3dd",
   "metadata": {},
   "source": [
    "uppercase string functions"
   ]
  },
  {
   "cell_type": "code",
   "execution_count": 17,
   "id": "e5dd9453",
   "metadata": {},
   "outputs": [
    {
     "name": "stdout",
     "output_type": "stream",
     "text": [
      "mohan wankhede\n",
      "ram jashav\n",
      "nikesh gajbhiye\n",
      "rohit dahilkar\n",
      "prashatn yekunwatr\n"
     ]
    }
   ],
   "source": [
    "text = \"MoHAn waNKheDe\"\n",
    "print (text.lower())\n",
    "\n",
    "text = \"RAM JAShav\"\n",
    "print (text.lower())\n",
    "\n",
    "text = \"NIkesh GAjbhiye\"\n",
    "print(text. lower())\n",
    "\n",
    "text = \"rohit dahilkar\"\n",
    "print (text. lower())\n",
    "\n",
    "text = \"prashATN YeKUNWATr\"\n",
    "print(text.lower())"
   ]
  },
  {
   "cell_type": "code",
   "execution_count": null,
   "id": "98240648",
   "metadata": {},
   "outputs": [
    {
     "name": "stdout",
     "output_type": "stream",
     "text": [
      "MOHWAN WANKHEDE\n",
      "SWAPNNIL BHOGE\n",
      "SARANG JASHAO\n",
      "VIKHIL LOGADE\n",
      "NIKIHIL NAKADE\n",
      "YOGESH DOMDE\n"
     ]
    }
   ],
   "source": [
    "# using uppercase string function\n",
    "\n",
    "text = \"mohwaN Wankhede\"\n",
    "print (text.upper())\n",
    "\n",
    "text = \"SwapnNIL BhogE\"\n",
    "print ( text. upper())\n",
    "\n",
    "\n",
    "text = \"SArang JAshao\"\n",
    "print (text.upper())\n",
    "\n",
    "text = \"VIkhil LoGAde\"\n",
    "print (text.upper())\n",
    "\n",
    "text = \"NIkiHil NAkade\"\n",
    "print (text.upper())\n",
    "\n",
    "text = \"YoGesh DomDE\"\n",
    "print (text. upper())\n",
    "\n"
   ]
  },
  {
   "cell_type": "code",
   "execution_count": 31,
   "id": "350cdd93",
   "metadata": {},
   "outputs": [
    {
     "name": "stdout",
     "output_type": "stream",
     "text": [
      "Gunderao wankhede\n",
      "Rajeram wankhede\n",
      "Sachin tendulkar\n",
      "Sanjiw kondekar\n",
      "Amol kole\n",
      "Pritam gaikwadkul\n",
      "Anil bhoyaere\n"
     ]
    }
   ],
   "source": [
    "# using string capitalize function\n",
    "\n",
    "text = \"gundERao WanKHEDe\"\n",
    "print (text. capitalize ())\n",
    "\n",
    "text = \"rAjeram wankhede\"\n",
    "print (text. capitalize ())\n",
    "\n",
    "\n",
    "text = \"sachin tEndulkar\"\n",
    "print (text. capitalize ())\n",
    "\n",
    "text = \"saNjIw KOndekar\"\n",
    "print (text. capitalize ())\n",
    "\n",
    "text = \"aMOL kOLe\"\n",
    "print (text. capitalize ())\n",
    "\n",
    "text = \"pRitAM GaikwadKul\"\n",
    "print (text. capitalize ())\n",
    " \n",
    "text = \"aNIL BHoyaere\"\n",
    "print (text. capitalize ())"
   ]
  },
  {
   "cell_type": "code",
   "execution_count": null,
   "id": "c154bbe3",
   "metadata": {},
   "outputs": [],
   "source": []
  }
 ],
 "metadata": {
  "kernelspec": {
   "display_name": "Python 3",
   "language": "python",
   "name": "python3"
  },
  "language_info": {
   "codemirror_mode": {
    "name": "ipython",
    "version": 3
   },
   "file_extension": ".py",
   "mimetype": "text/x-python",
   "name": "python",
   "nbconvert_exporter": "python",
   "pygments_lexer": "ipython3",
   "version": "3.13.7"
  }
 },
 "nbformat": 4,
 "nbformat_minor": 5
}
